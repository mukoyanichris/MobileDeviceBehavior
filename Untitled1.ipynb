{
 "cells": [
  {
   "cell_type": "code",
   "execution_count": 10,
   "id": "a8220a94-72b4-4c88-a01f-c8740e0fa160",
   "metadata": {},
   "outputs": [
    {
     "name": "stdout",
     "output_type": "stream",
     "text": [
      "   User ID    Device Model Operating System  App Usage Time (min/day)  \\\n",
      "0        1  Google Pixel 5          Android                       393   \n",
      "1        2       OnePlus 9          Android                       268   \n",
      "2        3    Xiaomi Mi 11          Android                       154   \n",
      "3        4  Google Pixel 5          Android                       239   \n",
      "4        5       iPhone 12              iOS                       187   \n",
      "\n",
      "   Screen On Time (hours/day)  Battery Drain (mAh/day)  \\\n",
      "0                         6.4                     1872   \n",
      "1                         4.7                     1331   \n",
      "2                         4.0                      761   \n",
      "3                         4.8                     1676   \n",
      "4                         4.3                     1367   \n",
      "\n",
      "   Number of Apps Installed  Data Usage (MB/day)  Age  Gender  \\\n",
      "0                        67                 1122   40    Male   \n",
      "1                        42                  944   47  Female   \n",
      "2                        32                  322   42    Male   \n",
      "3                        56                  871   20    Male   \n",
      "4                        58                  988   31  Female   \n",
      "\n",
      "   User Behavior Class  \n",
      "0                    4  \n",
      "1                    3  \n",
      "2                    2  \n",
      "3                    3  \n",
      "4                    3  \n"
     ]
    }
   ],
   "source": [
    "import pandas as pd\n",
    "df = pd.read_csv(\"/home/chrisdev/Desktop/phoneusage/user_behavior_dataset.csv\")\n",
    "print(df.head())"
   ]
  },
  {
   "cell_type": "code",
   "execution_count": 16,
   "id": "8e546107-bfce-4111-bdc7-8ee800c076f1",
   "metadata": {},
   "outputs": [
    {
     "name": "stdout",
     "output_type": "stream",
     "text": [
      "     User ID  Device Model  Operating System  App Usage Time (min/day)  \\\n",
      "0          1             0                 0                       393   \n",
      "1          2             1                 0                       268   \n",
      "2          3             3                 0                       154   \n",
      "3          4             0                 0                       239   \n",
      "4          5             4                 1                       187   \n",
      "..       ...           ...               ...                       ...   \n",
      "695      696             4                 1                        92   \n",
      "696      697             3                 0                       316   \n",
      "697      698             0                 0                        99   \n",
      "698      699             2                 0                        62   \n",
      "699      700             1                 0                       212   \n",
      "\n",
      "     Screen On Time (hours/day)  Battery Drain (mAh/day)  \\\n",
      "0                           6.4                     1872   \n",
      "1                           4.7                     1331   \n",
      "2                           4.0                      761   \n",
      "3                           4.8                     1676   \n",
      "4                           4.3                     1367   \n",
      "..                          ...                      ...   \n",
      "695                         3.9                     1082   \n",
      "696                         6.8                     1965   \n",
      "697                         3.1                      942   \n",
      "698                         1.7                      431   \n",
      "699                         5.4                     1306   \n",
      "\n",
      "     Number of Apps Installed  Data Usage (MB/day)  Age  Gender  \\\n",
      "0                          67                 1122   40       1   \n",
      "1                          42                  944   47       0   \n",
      "2                          32                  322   42       1   \n",
      "3                          56                  871   20       1   \n",
      "4                          58                  988   31       0   \n",
      "..                        ...                  ...  ...     ...   \n",
      "695                        26                  381   22       1   \n",
      "696                        68                 1201   59       1   \n",
      "697                        22                  457   50       0   \n",
      "698                        13                  224   44       1   \n",
      "699                        49                  828   23       0   \n",
      "\n",
      "     User Behavior Class  \n",
      "0                      4  \n",
      "1                      3  \n",
      "2                      2  \n",
      "3                      3  \n",
      "4                      3  \n",
      "..                   ...  \n",
      "695                    2  \n",
      "696                    4  \n",
      "697                    2  \n",
      "698                    1  \n",
      "699                    3  \n",
      "\n",
      "[700 rows x 11 columns]\n",
      "0      4\n",
      "1      3\n",
      "2      2\n",
      "3      3\n",
      "4      3\n",
      "      ..\n",
      "695    2\n",
      "696    4\n",
      "697    2\n",
      "698    1\n",
      "699    3\n",
      "Name: User Behavior Class, Length: 700, dtype: int64\n",
      "Accuracy: 1.00\n"
     ]
    }
   ],
   "source": [
    "\n",
    "from sklearn.preprocessing import LabelEncoder\n",
    "from sklearn.model_selection import train_test_split\n",
    "from sklearn.ensemble import RandomForestClassifier\n",
    "from sklearn.metrics import accuracy_score\n",
    "label_encoder = LabelEncoder()\n",
    "X = df\n",
    "from sklearn.preprocessing import LabelEncoder\n",
    "\n",
    "# Apply label encoding to 'Device Model' column\n",
    "le = LabelEncoder()\n",
    "df['Device Model'] = le.fit_transform(df['Device Model'])\n",
    "df['Operating System'] = le.fit_transform(df['Operating System'])\n",
    "print(df)\n",
    "df[\"Gender\"] = label_encoder.fit_transform(df[\"Gender\"])\n",
    "print(y)\n",
    "X_train, X_test, y_train, y_test = train_test_split(X, y, test_size=0.3, random_state=42)\n",
    "\n",
    "# Create a RandomForestClassifier instance\n",
    "model = RandomForestClassifier(n_estimators=100, random_state=42)\n",
    "\n",
    "# Fit the model on the training data\n",
    "model.fit(X_train, y_train)\n",
    "\n",
    "# Make predictions on the test data\n",
    "y_pred = model.predict(X_test)\n",
    "\n",
    "# Calculate and print the accuracy of the model\n",
    "accuracy = accuracy_score(y_test, y_pred)\n",
    "print(f'Accuracy: {accuracy:.2f}')\n"
   ]
  },
  {
   "cell_type": "code",
   "execution_count": 22,
   "id": "5259d43f-ab5f-4afc-aa9b-cda07f1a0dfe",
   "metadata": {},
   "outputs": [
    {
     "data": {
      "text/html": [
       "<a href='user_behavior_classifier.pkl' target='_blank'>user_behavior_classifier.pkl</a><br>"
      ],
      "text/plain": [
       "/home/chrisdev/Desktop/phoneusage/user_behavior_classifier.pkl"
      ]
     },
     "execution_count": 22,
     "metadata": {},
     "output_type": "execute_result"
    }
   ],
   "source": [
    "import pickle\n",
    "with open('user_behavior_classifier.pkl', 'wb') as file:\n",
    " pickle.dump(model, file)\n",
    "    # Load the model from the file\n",
    "with open('user_behavior_classifier.pkl', 'rb') as file:\n",
    "    model = pickle.load(file)\n",
    "    from IPython.display import FileLink\n",
    "\n",
    "# Create a link to download the pickle file\n",
    "FileLink('user_behavior_classifier.pkl')\n",
    "\n"
   ]
  },
  {
   "cell_type": "code",
   "execution_count": null,
   "id": "ec36f168-92a5-494a-942e-e49e03f14f0e",
   "metadata": {},
   "outputs": [],
   "source": []
  }
 ],
 "metadata": {
  "kernelspec": {
   "display_name": "Python (myenv)",
   "language": "python",
   "name": "myenv"
  },
  "language_info": {
   "codemirror_mode": {
    "name": "ipython",
    "version": 3
   },
   "file_extension": ".py",
   "mimetype": "text/x-python",
   "name": "python",
   "nbconvert_exporter": "python",
   "pygments_lexer": "ipython3",
   "version": "3.12.6"
  }
 },
 "nbformat": 4,
 "nbformat_minor": 5
}
